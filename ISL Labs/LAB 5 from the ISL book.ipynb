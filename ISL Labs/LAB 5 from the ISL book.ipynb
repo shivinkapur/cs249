{
 "metadata": {
  "name": "",
  "signature": "sha256:dfe553955acd1cbaf9827508ba24e81032d70d22f3df9b107356fa2eab9ee8af"
 },
 "nbformat": 3,
 "nbformat_minor": 0,
 "worksheets": [
  {
   "cells": [
    {
     "cell_type": "heading",
     "level": 1,
     "metadata": {},
     "source": [
      "[ISL] book -- Chapter 5 Lab: Resampling Methods"
     ]
    },
    {
     "cell_type": "code",
     "collapsed": false,
     "input": [
      "%load_ext rmagic\n",
      "import rpy2 as Rpy\n"
     ],
     "language": "python",
     "metadata": {},
     "outputs": [],
     "prompt_number": 1
    },
    {
     "cell_type": "markdown",
     "metadata": {},
     "source": [
      "###Load libraries we need"
     ]
    },
    {
     "cell_type": "code",
     "collapsed": false,
     "input": [
      "%%R\n",
      "\n",
      "not.installed = function(package_name)  !is.element(package_name, installed.packages()[,1])\n",
      "\n",
      "if (not.installed(\"MASS\")) install.packages(\"MASS\")\n",
      "if (not.installed(\"ISLR\")) install.packages(\"ISLR\")\n",
      "if (not.installed(\"boot\")) install.packages(\"boot\")\n",
      "\n",
      "library(MASS)\n",
      "library(ISLR)\n",
      "library(boot)\n"
     ],
     "language": "python",
     "metadata": {},
     "outputs": [],
     "prompt_number": 2
    },
    {
     "cell_type": "markdown",
     "metadata": {},
     "source": [
      "##5.3.1. The Validation Set Approach"
     ]
    },
    {
     "cell_type": "code",
     "collapsed": false,
     "input": [
      "%%R\n",
      "\n",
      "set.seed(1)\n",
      "train = sample(392, 196)\n",
      "\n",
      "lm.fit = lm(mpg ~ horsepower, data = Auto, subset = train)\n",
      "print(summary(lm.fit))"
     ],
     "language": "python",
     "metadata": {},
     "outputs": [
      {
       "metadata": {},
       "output_type": "display_data",
       "text": [
        "\n",
        "Call:\n",
        "lm(formula = mpg ~ horsepower, data = Auto, subset = train)\n",
        "\n",
        "Residuals:\n",
        "    Min      1Q  Median      3Q     Max \n",
        "-13.698  -3.085  -0.216   2.680  16.770 \n",
        "\n",
        "Coefficients:\n",
        "             Estimate Std. Error t value Pr(>|t|)    \n",
        "(Intercept) 40.340377   1.002269   40.25   <2e-16 ***\n",
        "horsepower  -0.161701   0.008809  -18.36   <2e-16 ***\n",
        "---\n",
        "Signif. codes:  0 \u2018***\u2019 0.001 \u2018**\u2019 0.01 \u2018*\u2019 0.05 \u2018.\u2019 0.1 \u2018 \u2019 1\n",
        "\n",
        "Residual standard error: 4.692 on 194 degrees of freedom\n",
        "Multiple R-squared:  0.6346,\tAdjusted R-squared:  0.6327 \n",
        "F-statistic: 336.9 on 1 and 194 DF,  p-value: < 2.2e-16\n",
        "\n"
       ]
      }
     ],
     "prompt_number": 3
    },
    {
     "cell_type": "code",
     "collapsed": false,
     "input": [
      "%%R\n",
      "\n",
      "attach(Auto)\n",
      "print( mean((mpg - predict(lm.fit, Auto))[-train]^2) )"
     ],
     "language": "python",
     "metadata": {},
     "outputs": [
      {
       "metadata": {},
       "output_type": "display_data",
       "text": [
        "[1] 26.14142\n"
       ]
      }
     ],
     "prompt_number": 4
    },
    {
     "cell_type": "code",
     "collapsed": false,
     "input": [
      "%%R\n",
      "\n",
      "lm.fit2 = lm(mpg ~ poly(horsepower, 2), data = Auto, subset = train)\n",
      "print( mean((mpg - predict(lm.fit2, Auto))[-train]^2) )\n",
      "\n",
      "lm.fit3 = lm(mpg ~ poly(horsepower, 3), data = Auto, subset = train)\n",
      "print( mean((mpg - predict(lm.fit3, Auto))[-train]^2) )"
     ],
     "language": "python",
     "metadata": {},
     "outputs": [
      {
       "metadata": {},
       "output_type": "display_data",
       "text": [
        "[1] 19.82259\n",
        "[1] 19.78252\n"
       ]
      }
     ],
     "prompt_number": 5
    },
    {
     "cell_type": "code",
     "collapsed": false,
     "input": [
      "%%R\n",
      "\n",
      "set.seed(2)\n",
      "train = sample(392, 196)\n",
      "\n",
      "lm.fit = lm(mpg ~ horsepower, subset = train)\n",
      "print( mean((mpg-predict(lm.fit, Auto))[-train]^2) )\n",
      "\n",
      "lm.fit2 = lm(mpg ~ poly(horsepower, 2), data = Auto, subset = train)\n",
      "print( mean((mpg-predict(lm.fit2, Auto))[-train]^2) )\n",
      "\n",
      "lm.fit3 = lm(mpg ~ poly(horsepower, 3), data = Auto, subset = train)\n",
      "print( mean((mpg-predict(lm.fit3, Auto))[-train]^2) )\n"
     ],
     "language": "python",
     "metadata": {},
     "outputs": [
      {
       "metadata": {},
       "output_type": "display_data",
       "text": [
        "[1] 23.29559\n",
        "[1] 18.90124\n",
        "[1] 19.2574\n"
       ]
      }
     ],
     "prompt_number": 6
    },
    {
     "cell_type": "markdown",
     "metadata": {},
     "source": [
      "##5.3.2.  Leave-One-Out Cross-Validation"
     ]
    },
    {
     "cell_type": "code",
     "collapsed": false,
     "input": [
      "%%R\n",
      "\n",
      "glm.fit = glm(mpg ~ horsepower, data = Auto)\n",
      "print( coef(glm.fit) )"
     ],
     "language": "python",
     "metadata": {},
     "outputs": [
      {
       "metadata": {},
       "output_type": "display_data",
       "text": [
        "(Intercept)  horsepower \n",
        " 39.9358610  -0.1578447 \n"
       ]
      }
     ],
     "prompt_number": 7
    },
    {
     "cell_type": "code",
     "collapsed": false,
     "input": [
      "%%R\n",
      "\n",
      "lm.fit = lm(mpg ~ horsepower, data = Auto)\n",
      "print( coef(lm.fit) )"
     ],
     "language": "python",
     "metadata": {},
     "outputs": [
      {
       "metadata": {},
       "output_type": "display_data",
       "text": [
        "(Intercept)  horsepower \n",
        " 39.9358610  -0.1578447 \n"
       ]
      }
     ],
     "prompt_number": 8
    },
    {
     "cell_type": "code",
     "collapsed": false,
     "input": [
      "%%R\n",
      "\n",
      "library(boot)\n",
      "glm.fit = glm(mpg ~ horsepower, data = Auto)\n",
      "\n",
      "cv.err = cv.glm(Auto, glm.fit)\n",
      "print( cv.err$delta )"
     ],
     "language": "python",
     "metadata": {},
     "outputs": [
      {
       "metadata": {},
       "output_type": "display_data",
       "text": [
        "[1] 24.23151 24.23114\n"
       ]
      }
     ],
     "prompt_number": 9
    },
    {
     "cell_type": "code",
     "collapsed": false,
     "input": [
      "%%R\n",
      "\n",
      "cv.error = rep(0, 5)\n",
      "\n",
      "for (i in 1:5){\n",
      " glm.fit = glm(mpg ~ poly(horsepower, i), data = Auto)\n",
      " cv.error[i] = cv.glm(Auto, glm.fit)$delta[1]\n",
      "}\n",
      "\n",
      "print( cv.error )"
     ],
     "language": "python",
     "metadata": {},
     "outputs": [
      {
       "metadata": {},
       "output_type": "display_data",
       "text": [
        "[1] 24.23151 19.24821 19.33498 19.42443 19.03321\n"
       ]
      }
     ],
     "prompt_number": 10
    },
    {
     "cell_type": "markdown",
     "metadata": {},
     "source": [
      "##K-fold Cross-Validation"
     ]
    },
    {
     "cell_type": "code",
     "collapsed": false,
     "input": [
      "%%R\n",
      "\n",
      "set.seed(17)\n",
      "cv.error.10 = rep(0, 10)\n",
      "\n",
      "for (i in 1:10){\n",
      " glm.fit = glm(mpg ~ poly(horsepower, i), data = Auto)\n",
      " cv.error.10[i] = cv.glm(Auto, glm.fit, K = 10)$delta[1]\n",
      "}\n",
      "\n",
      "print( cv.error.10 )"
     ],
     "language": "python",
     "metadata": {},
     "outputs": [
      {
       "metadata": {},
       "output_type": "display_data",
       "text": [
        " [1] 24.20520 19.18924 19.30662 19.33799 18.87911 19.02103 18.89609 19.71201\n",
        " [9] 18.95140 19.50196\n"
       ]
      }
     ],
     "prompt_number": 11
    },
    {
     "cell_type": "markdown",
     "metadata": {},
     "source": [
      "##5.3.3.  The Bootstrap"
     ]
    },
    {
     "cell_type": "code",
     "collapsed": false,
     "input": [
      "%%R\n",
      "\n",
      "alpha.fn = function(data, index){\n",
      " X = data$X[index]\n",
      " Y = data$Y[index]\n",
      " return((var(Y)-cov(X, Y))/(var(X)+var(Y)-2*cov(X, Y)))\n",
      "}\n",
      "\n",
      "print( alpha.fn(Portfolio, 1:100) )\n",
      "set.seed(1)\n",
      "\n",
      "print( alpha.fn(Portfolio, sample(100, 100, replace = T)) )"
     ],
     "language": "python",
     "metadata": {},
     "outputs": [
      {
       "metadata": {},
       "output_type": "display_data",
       "text": [
        "[1] 0.5758321\n",
        "[1] 0.5963833\n"
       ]
      }
     ],
     "prompt_number": 12
    },
    {
     "cell_type": "code",
     "collapsed": false,
     "input": [
      "%%R\n",
      "\n",
      "print( boot(Portfolio, alpha.fn, R = 1000) )"
     ],
     "language": "python",
     "metadata": {},
     "outputs": [
      {
       "metadata": {},
       "output_type": "display_data",
       "text": [
        "\n",
        "ORDINARY NONPARAMETRIC BOOTSTRAP\n",
        "\n",
        "\n",
        "Call:\n",
        "boot(data = Portfolio, statistic = alpha.fn, R = 1000)\n",
        "\n",
        "\n",
        "Bootstrap Statistics :\n",
        "     original        bias    std. error\n",
        "t1* 0.5758321 -7.315422e-05  0.08861826\n"
       ]
      }
     ],
     "prompt_number": 13
    },
    {
     "cell_type": "code",
     "collapsed": false,
     "input": [
      "%%R\n",
      "\n",
      "# Estimating the Accuracy of a Linear Regression Model\n",
      "\n",
      "boot.fn = function(data, index)\n",
      " return(coef(lm(mpg ~ horsepower, data = data, subset = index)))\n",
      "\n",
      "#Useful for Sensivity Analysis\n",
      "    \n",
      "print( boot.fn(Auto, 1:392) )"
     ],
     "language": "python",
     "metadata": {},
     "outputs": [
      {
       "metadata": {},
       "output_type": "display_data",
       "text": [
        "(Intercept)  horsepower \n",
        " 39.9358610  -0.1578447 \n"
       ]
      }
     ],
     "prompt_number": 14
    },
    {
     "cell_type": "code",
     "collapsed": false,
     "input": [
      "%%R\n",
      "    \n",
      "set.seed(1)\n",
      "print( boot.fn(Auto, sample(392, 392, replace = T)) )\n",
      "print( boot.fn(Auto, sample(392, 392, replace = T)) )"
     ],
     "language": "python",
     "metadata": {},
     "outputs": [
      {
       "metadata": {},
       "output_type": "display_data",
       "text": [
        "(Intercept)  horsepower \n",
        " 38.7387134  -0.1481952 \n",
        "(Intercept)  horsepower \n",
        " 40.0383086  -0.1596104 \n"
       ]
      }
     ],
     "prompt_number": 15
    },
    {
     "cell_type": "code",
     "collapsed": false,
     "input": [
      "%%R\n",
      "\n",
      "print(boot(Auto, boot.fn, 1000))\n",
      "print( summary(lm(mpg ~ horsepower, data = Auto))$coef )"
     ],
     "language": "python",
     "metadata": {},
     "outputs": [
      {
       "metadata": {},
       "output_type": "display_data",
       "text": [
        "\n",
        "ORDINARY NONPARAMETRIC BOOTSTRAP\n",
        "\n",
        "\n",
        "Call:\n",
        "boot(data = Auto, statistic = boot.fn, R = 1000)\n",
        "\n",
        "\n",
        "Bootstrap Statistics :\n",
        "        original        bias     std. error\n",
        "t1* 56.900099702  2.368575e-02 2.1543498057\n",
        "t2* -0.466189630 -6.255939e-04 0.0346754260\n",
        "t3*  0.001230536  3.119713e-06 0.0001257482\n",
        "              Estimate  Std. Error   t value      Pr(>|t|)\n",
        "(Intercept) 39.9358610 0.717498656  55.65984 1.220362e-187\n",
        "horsepower  -0.1578447 0.006445501 -24.48914  7.031989e-81\n"
       ]
      }
     ],
     "prompt_number": 20
    },
    {
     "cell_type": "code",
     "collapsed": false,
     "input": [
      "%%R\n",
      "\n",
      "boot.fn = function(data, index) {\n",
      " coefficients(lm(mpg ~ horsepower+I(horsepower^2), data = data, subset = index))\n",
      "}\n",
      "\n",
      "set.seed(1)\n",
      "\n",
      "print( boot(Auto, boot.fn, 1000) )\n"
     ],
     "language": "python",
     "metadata": {},
     "outputs": [
      {
       "metadata": {},
       "output_type": "display_data",
       "text": [
        "\n",
        "ORDINARY NONPARAMETRIC BOOTSTRAP\n",
        "\n",
        "\n",
        "Call:\n",
        "boot(data = Auto, statistic = boot.fn, R = 1000)\n",
        "\n",
        "\n",
        "Bootstrap Statistics :\n",
        "        original        bias     std. error\n",
        "t1* 56.900099702  6.098115e-03 2.0944855842\n",
        "t2* -0.466189630 -1.777108e-04 0.0334123802\n",
        "t3*  0.001230536  1.324315e-06 0.0001208339\n"
       ]
      }
     ],
     "prompt_number": 17
    },
    {
     "cell_type": "code",
     "collapsed": false,
     "input": [
      "%%R\n",
      "\n",
      "print( summary(lm(mpg ~ horsepower+I(horsepower^2), data = Auto))$coef )\n"
     ],
     "language": "python",
     "metadata": {},
     "outputs": [
      {
       "metadata": {},
       "output_type": "display_data",
       "text": [
        "                    Estimate   Std. Error   t value      Pr(>|t|)\n",
        "(Intercept)     56.900099702 1.8004268063  31.60367 1.740911e-109\n",
        "horsepower      -0.466189630 0.0311246171 -14.97816  2.289429e-40\n",
        "I(horsepower^2)  0.001230536 0.0001220759  10.08009  2.196340e-21\n"
       ]
      }
     ],
     "prompt_number": 18
    }
   ],
   "metadata": {}
  }
 ]
}