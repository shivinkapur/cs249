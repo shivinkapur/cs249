{
 "metadata": {
  "name": ""
 },
 "nbformat": 3,
 "nbformat_minor": 0,
 "worksheets": [
  {
   "cells": [
    {
     "cell_type": "heading",
     "level": 1,
     "metadata": {},
     "source": [
      "Notebooks and Datasets that might be Interesting"
     ]
    },
    {
     "cell_type": "markdown",
     "metadata": {},
     "source": [
      "##Some Galleries of interesting Python Notebooks (and Datasets)\n",
      "\n",
      "At https://github.com/ipython/ipython/wiki/A-gallery-of-interesting-IPython-Notebooks \n",
      "there is a \"notebook of notebooks\" by the IPython developers.\n",
      "Some are short tutorials, some are textbook-like, and others have large data analysis examples.\n",
      "\n",
      "The developers also made a higher-level summary of varied applications of IPython\n",
      "(in a progress report for a Sloan Foundation grant) at\n",
      "http://nbviewer.ipython.org/github/ipython/sloan-2013-reports/blob/master/IPython%202013%20Progress%20Report%20-%20Sloan%20Foundation.ipynb\n",
      "\n",
      "The Continuum.io people (who make Anaconda) have a Notebook gallery at https://www.wakari.io/gallery\n",
      "\n",
      "Fernando Perez (IPython guy) also summarized some course project notebooks from a Data Science course at Berkeley:\n",
      "http://blog.fperez.org/2013/05/exploring-open-data-with-ipython.html\n",
      "\n",
      "If all else fails, doing\n",
      "<a target=\"_blank\" title=\"https://www.google.com/#q=ipynb\" href=\"https://www.google.com/#q=ipynb\">Google Search using <b>ipynb</b> as a search term</a> can also find\n",
      "interesting notebooks.\n",
      "e.g., <a target=\"_blank\" title=\"https://www.google.com/#q=ipynb+linkedin\" href=\"https://www.google.com/#q=ipynb+linkedin\">ipynb linkedin</a>,\n",
      "<a target=\"_blank\" title=\"https://www.google.com/#q=ipynb+linkedin\" href=\"https://www.google.com/#q=ipynb+linkedin\">ipynb yelp</a>, etc.\n"
     ]
    },
    {
     "cell_type": "markdown",
     "metadata": {},
     "source": [
      "## It's easy to view any IPython Notebook on the web\n",
      "\n",
      "Most .ipynb files you find on the web are JSON structures -- you can't read them easily.\n",
      "\n",
      "At http://nbviewer.ipython.org/ the IPython developers have put together a way to view ipynb files.  In the query box you just paste in the URL of a .ipynb file you are interested in.\n",
      "\n",
      "This viewer shows some interesting examples, including a notebook (http://nbviewer.ipython.org/github/ipython/ipython/blob/master/examples/Builtin%20Extensions/R%20Magics.ipynb) that shows how to do sophisticated variable connections between Python and R."
     ]
    },
    {
     "cell_type": "code",
     "collapsed": false,
     "input": [],
     "language": "python",
     "metadata": {},
     "outputs": []
    },
    {
     "cell_type": "markdown",
     "metadata": {},
     "source": [
      "## <i>Mining the Social Web (2nd Ed)</i>:  a how-to book with executable notebooks for Twitter, Facebook, etc.\n",
      "\n",
      "A polished O'Reilly book (http://shop.oreilly.com/product/0636920030195.do about \"Data Mining Facebook, Twitter, LinkedIn, Google+, GitHub, and More\").\n",
      "\n",
      "The main page at https://github.com/ptwobrussell/Mining-the-Social-Web-2nd-Edition has HTML versions of IPython notebooks for each chapter at the end.\n",
      "\n",
      "Actual IPython notebooks are at https://github.com/ptwobrussell/Mining-the-Social-Web-2nd-Edition/tree/master/ipynb\n",
      "\n",
      "At http://www.data.gov there is a dataset keeping track of social media activity:\n",
      "http://catalog.data.gov/dataset/social-media-monitoring-metrics\n",
      "\"Lists basic social media metrics aggregated on a weekly basis. Metrics include SAMHSA's Facebook fans, comments, likes, and posts; and Twitter followers and mentions.\""
     ]
    },
    {
     "cell_type": "markdown",
     "metadata": {},
     "source": [
      "##<i>Python for Data Analysis</i> (our course text)\n",
      "\n",
      "Our course text <i>Python for Data Analysis</i> (http://shop.oreilly.com/product/0636920023784.do)\n",
      "has a Github page at https://github.com/pydata/pydata-book, which has a number of datasets from the book.\n",
      "\n",
      "The book also a set of <a target=\"_blank\" title=\"https://github.com/rgbkrk/pydata-notebook\" href=\"https://github.com/rgbkrk/pydata-notebook\">Notebooks and Datasets</a>.\n",
      "\n",
      "\n",
      "In addition there are now some updates, such as sample notebooks at <a target=\"_blank\" title=\"http://blog.wesmckinney.com\" href=\"http://blog.wesmckinney.com\">Wes McKinney's</a> site including a\n",
      "<a target=\"_blank\" title=\"http://nbviewer.ipython.org/urls/gist.github.com/wesm/5786965/raw/ed219255583af7dea499577a134a9ff8625a6f25/gistfile1.txt\" href=\"http://nbviewer.ipython.org/urls/gist.github.com/wesm/5786965/raw/ed219255583af7dea499577a134a9ff8625a6f25/gistfile1.txt\">notebook analyzing Stackoverflow posts about Python</a>\n",
      "(with <a target=\"_blank\" title=\"https://www.dropbox.com/sh/3n4gyym1xjzdjfw/1QUflfXAsS\" href=\"https://www.dropbox.com/sh/3n4gyym1xjzdjfw/1QUflfXAsS\">a dataset of posts</a>),\n",
      "and a\n",
      "<a target=\"_blank\" title=\"http://nbviewer.ipython.org/urls/gist.github.com/wesm/5773719/raw/1399562c0a02b9edc3d13c71a70387a31d87260b/tutorial.ipynb\" href=\"http://nbviewer.ipython.org/urls/gist.github.com/wesm/5773719/raw/1399562c0a02b9edc3d13c71a70387a31d87260b/tutorial.ipynb\">tutorial notebook about Pandas</a>\n",
      "(with <a target=\"_blank\" title=\"https://www.dropbox.com/s/zux0ed09j4fp5fy/tutorial_files.zip\" href=\"https://www.dropbox.com/s/zux0ed09j4fp5fy/tutorial_files.zip\">an associated downloadable data zip file</a>)."
     ]
    },
    {
     "cell_type": "markdown",
     "metadata": {},
     "source": [
      "There are also other books coming out later.  Apparently <i>Python for Finance</i> will also be coming out later this year.\n",
      "It has some skeletal notebooks at https://github.com/odewahn/python-for-finance-ipynb"
     ]
    },
    {
     "cell_type": "code",
     "collapsed": false,
     "input": [],
     "language": "python",
     "metadata": {},
     "outputs": []
    },
    {
     "cell_type": "markdown",
     "metadata": {},
     "source": [
      "##Google Trends, Correlate, and N-grams -- interesting and easy-to-obtain time series data\n",
      "\n",
      "Google Trends (http://www.google.com/trends/) permits analysis of time-series data about frequencies of specific search terms.\n",
      "\n",
      "\n",
      "Google Correlate (https://www.google.com/trends/correlate) permits retrieval of all time series that match (are highly correlated with) a given user-input time series.\n",
      "\n",
      "\n",
      "The Google Books n-grams viewer at https://books.google.com/ngrams provides google-trends-like (or Baby-Names-like)\n",
      "visualization of frequencies of phrases appearing in books (since around 1500).\n",
      "\n",
      "The n-gram data is gigantic (over a trillion words), but is available at \n",
      "http://googleresearch.blogspot.com/2006/08/all-our-n-gram-are-belong-to-you.html\n",
      "See also http://storage.googleapis.com/books/ngrams/books/datasetsv2.html"
     ]
    },
    {
     "cell_type": "code",
     "collapsed": false,
     "input": [
      "# Adapted from:\n",
      "# http://nbviewer.ipython.org/github/sahuguet/notebooks/blob/master/GoogleTrends%20meet%20Notebook.ipynb\n",
      "\n",
      "import json\n",
      "import re\n",
      "import urllib2\n",
      "\n",
      "%pylab inline\n",
      "\n",
      "QUERY_TERMS = ['dollar', 'bitcoin']\n",
      "QUERY = 'http://www.google.com/trends/fetchComponent?q=%s&cid=TIMESERIES_GRAPH_0&export=3' % \",\".join(QUERY_TERMS)\n",
      "\n",
      "data = urllib2.urlopen(QUERY).read()\n",
      "\n",
      "# We need to do some data cleaning: remove Javascript header+footer, and translate new Date(....,..,..) into YYYY-MM-DD.\n",
      "header = \"\"\"// Data table response\\ngoogle.visualization.Query.setResponse(\"\"\"\n",
      "data = data[len(header):-2]\n",
      "data = re.sub('new Date\\((\\d+),(\\d+),(\\d+)\\)', (lambda m: '\"%s-%02d-%02d\"' % (m.group(1).strip(), 1+int(m.group(2)), int(m.group(3)))), data)\n",
      "\n",
      "data = data.replace(',,',',') ## bug in the existing notebook\n",
      "\n",
      "timeseries = json.loads(data)\n",
      "\n",
      "initial_colnames = [col['label'] for col in timeseries['table']['cols']]\n",
      "initial_rows = [[field['v'] for field in row['c']] for row in timeseries['table']['rows']]\n",
      "\n",
      "colnames = ['year','month'] + initial_colnames[1:3]\n",
      "rows = [([int(d) for d in row[0].split('-')[0:2]] + row[1:3]) for row in initial_rows][:-1]\n",
      "\n",
      "print colnames\n",
      "print rows\n",
      "\n",
      "# to communicate these to R, we have to convert from the default dict structure."
     ],
     "language": "python",
     "metadata": {},
     "outputs": [
      {
       "output_type": "stream",
       "stream": "stdout",
       "text": [
        "Populating the interactive namespace from numpy and matplotlib\n",
        "['year', 'month', u'dollar', u'bitcoin']"
       ]
      },
      {
       "output_type": "stream",
       "stream": "stdout",
       "text": [
        "\n",
        "[[2004, 1, 58.0, 0.0], [2004, 2, 56.0, 0.0], [2004, 3, 58.0, 0.0], [2004, 4, 54.0, 0.0], [2004, 5, 53.0, 0.0], [2004, 6, 54.0, 0.0], [2004, 7, 54.0, 0.0], [2004, 8, 51.0, 0.0], [2004, 9, 49.0, 0.0], [2004, 10, 53.0, 0.0], [2004, 11, 60.0, 0.0], [2004, 12, 65.0, 0.0], [2005, 1, 67.0, 0.0], [2005, 2, 73.0, 0.0], [2005, 3, 68.0, 0.0], [2005, 4, 60.0, 0.0], [2005, 5, 58.0, 0.0], [2005, 6, 58.0, 0.0], [2005, 7, 61.0, 0.0], [2005, 8, 57.0, 0.0], [2005, 9, 55.0, 0.0], [2005, 10, 55.0, 0.0], [2005, 11, 53.0, 0.0], [2005, 12, 57.0, 0.0], [2006, 1, 73.0, 0.0], [2006, 2, 55.0, 0.0], [2006, 3, 57.0, 0.0], [2006, 4, 56.0, 0.0], [2006, 5, 59.0, 0.0], [2006, 6, 54.0, 0.0], [2006, 7, 55.0, 0.0], [2006, 8, 54.0, 0.0], [2006, 9, 51.0, 0.0], [2006, 10, 50.0, 0.0], [2006, 11, 51.0, 0.0], [2006, 12, 56.0, 0.0], [2007, 1, 53.0, 0.0], [2007, 2, 55.0, 0.0], [2007, 3, 58.0, 0.0], [2007, 4, 57.0, 0.0], [2007, 5, 57.0, 0.0], [2007, 6, 58.0, 0.0], [2007, 7, 62.0, 0.0], [2007, 8, 61.0, 0.0], [2007, 9, 61.0, 0.0], [2007, 10, 66.0, 0.0], [2007, 11, 74.0, 0.0], [2007, 12, 66.0, 0.0], [2008, 1, 67.0, 0.0], [2008, 2, 65.0, 0.0], [2008, 3, 75.0, 0.0], [2008, 4, 66.0, 0.0], [2008, 5, 69.0, 0.0], [2008, 6, 67.0, 0.0], [2008, 7, 70.0, 0.0], [2008, 8, 70.0, 0.0], [2008, 9, 77.0, 0.0], [2008, 10, 92.0, 0.0], [2008, 11, 78.0, 0.0], [2008, 12, 78.0, 0.0], [2009, 1, 75.0, 0.0], [2009, 2, 72.0, 0.0], [2009, 3, 75.0, 0.0], [2009, 4, 67.0, 0.0], [2009, 5, 69.0, 0.0], [2009, 6, 70.0, 0.0], [2009, 7, 67.0, 0.0], [2009, 8, 70.0, 0.0], [2009, 9, 67.0, 0.0], [2009, 10, 72.0, 0.0], [2009, 11, 69.0, 0.0], [2009, 12, 71.0, 0.0], [2010, 1, 69.0, 0.0], [2010, 2, 71.0, 0.0], [2010, 3, 70.0, 0.0], [2010, 4, 70.0, 0.0], [2010, 5, 80.0, 0.0], [2010, 6, 70.0, 0.0], [2010, 7, 71.0, 0.0], [2010, 8, 73.0, 0.0], [2010, 9, 69.0, 0.0], [2010, 10, 74.0, 0.0], [2010, 11, 73.0, 0.0], [2010, 12, 75.0, 0.0], [2011, 1, 76.0, 0.0], [2011, 2, 71.0, 0.0], [2011, 3, 74.0, 0.0], [2011, 4, 76.0, 0.0], [2011, 5, 76.0, 2.0], [2011, 6, 77.0, 7.0], [2011, 7, 81.0, 3.0], [2011, 8, 85.0, 3.0], [2011, 9, 81.0, 2.0], [2011, 10, 78.0, 2.0], [2011, 11, 77.0, 1.0], [2011, 12, 80.0, 1.0], [2012, 1, 78.0, 1.0], [2012, 2, 75.0, 1.0], [2012, 3, 75.0, 1.0], [2012, 4, 76.0, 1.0], [2012, 5, 80.0, 1.0], [2012, 6, 85.0, 1.0], [2012, 7, 78.0, 1.0], [2012, 8, 78.0, 2.0], [2012, 9, 80.0, 2.0], [2012, 10, 77.0, 1.0], [2012, 11, 76.0, 2.0], [2012, 12, 81.0, 2.0], [2013, 1, 79.0, 2.0], [2013, 2, 78.0, 3.0], [2013, 3, 81.0, 8.0], [2013, 4, 77.0, 22.0], [2013, 5, 80.0, 8.0], [2013, 6, 93.0, 6.0], [2013, 7, 93.0, 5.0], [2013, 8, 100.0, 6.0], [2013, 9, 98.0, 5.0], [2013, 10, 97.0, 9.0], [2013, 11, 89.0, 31.0], [2013, 12, 92.0, 36.0], [2014, 1, 90.0, 24.0], [2014, 2, 88.0, 27.0], [2014, 3, 96.0, 20.0], [2014, 4, 91.0, 11.0]]\n"
       ]
      }
     ],
     "prompt_number": 51
    },
    {
     "cell_type": "code",
     "collapsed": false,
     "input": [
      "%load_ext rmagic"
     ],
     "language": "python",
     "metadata": {},
     "outputs": []
    },
    {
     "cell_type": "code",
     "collapsed": false,
     "input": [
      "%%R -i rows,colnames -w 800 -h 400\n",
      "\n",
      "# we need to use the '-i' form here to get all plots overlaid\n",
      "nrows = nrow(rows)\n",
      "times = rows[,1]+(rows[,2]-1)/12\n",
      "\n",
      "plot( times, rows[,3], col=\"blue\", type=\"l\", ylim=c(0,100),\n",
      "    main=\"We can use R for time-series analysis here\", cex.main=2)\n",
      "points( times, rows[,4], col=\"green4\", type=\"l\")\n",
      "legend(\"topleft\", colnames[3:4], col=c(\"blue\",\"green4\"), lwd=3 )"
     ],
     "language": "python",
     "metadata": {},
     "outputs": [
      {
       "metadata": {},
       "output_type": "display_data",
       "png": "[encoded data removed]"
      }
     ],
     "prompt_number": 66
    },
    {
     "cell_type": "code",
     "collapsed": false,
     "input": [
      "import pandas as pd\n",
      "\n",
      "#  now do the same thing in Pandas/Matplotlib, instead of R\n",
      "\n",
      "columns = [k['label'] for k in timeseries['table']['cols']]\n",
      "simple_rows = map(lambda x: [k['v'] for k in x['c']], timeseries['table']['rows'])\n",
      "dataframe = pd.DataFrame(simple_rows, columns=columns)\n",
      "dataframe.set_index('Date', inplace=True)\n",
      "dataframe.plot(figsize=(16, 8))\n"
     ],
     "language": "python",
     "metadata": {},
     "outputs": [
      {
       "metadata": {},
       "output_type": "pyout",
       "prompt_number": 55,
       "text": [
        "<matplotlib.axes.AxesSubplot at 0x10b76e310>"
       ]
      },
      {
       "metadata": {},
       "output_type": "display_data",
       "png": "[encoded data removed]",
       "text": [
        "<matplotlib.figure.Figure at 0x10b779690>"
       ]
      }
     ],
     "prompt_number": 55
    },
    {
     "cell_type": "markdown",
     "metadata": {},
     "source": [
      "##Baby Names -- entirely within Python\n",
      "\n",
      "At http://data.gov you can search over 100,000 datasets.  The API description at http://docs.ckan.org/en/latest/api/index.html is surprisingly good.\n",
      "\n",
      "There are two complete Baby Names datasets (one with totals for the entire U.S., and another with totals by state) up through 2012 at http://catalog.data.gov/dataset?tags=baby-names\n",
      "\n",
      "Chapters 2 and 3 of <i>Python for Data Analysis</i> (see above) show how to analyze the data using Python + Pandas.\n"
     ]
    },
    {
     "cell_type": "code",
     "collapsed": false,
     "input": [
      "import urllib2\n",
      "zipped_data = urllib2.urlopen(\"http://www.ssa.gov/oact/babynames/names.zip\")\n",
      "## this .zip file unpacks into a collection of files with names for each year 1880 - 2012.\n",
      "\n",
      "import zipfile\n",
      "from cStringIO import StringIO\n",
      "\n",
      "zfiledata = StringIO(zipped_data.read())\n",
      "zfile = zipfile.ZipFile(zfiledata)\n",
      "for filename in zfile.namelist():\n",
      "   if filename.endswith(\".txt\"):\n",
      "      # We have a .txt file within the .zip file\n",
      "      filedata = zfile.open(filename).read()\n",
      "      print 'baby name file %s -- has length %d' % (filename, len(filedata))\n",
      "      \n",
      "      # if you want to, you can manipulate the filedata for each file here\n",
      "                        "
     ],
     "language": "python",
     "metadata": {},
     "outputs": [
      {
       "output_type": "stream",
       "stream": "stdout",
       "text": [
        "baby name file yob1885.txt -- has length 28625\n",
        "baby name file yob1886.txt -- has length 29822\n",
        "baby name file yob1887.txt -- has length 29531\n",
        "baby name file yob1888.txt -- has length 33064\n",
        "baby name file yob1889.txt -- has length 32297\n",
        "baby name file yob1890.txt -- has length 33621\n",
        "baby name file yob1891.txt -- has length 33186\n",
        "baby name file yob1892.txt -- has length 36542\n",
        "baby name file yob1893.txt -- has length 35434\n",
        "baby name file yob1894.txt -- has length 36817\n",
        "baby name file yob1895.txt -- has length 38232\n",
        "baby name file yob1896.txt -- has length 38747\n",
        "baby name file yob1897.txt -- has length 37936\n",
        "baby name file yob1898.txt -- has length 40925\n",
        "baby name file yob1899.txt -- has length 38141\n",
        "baby name file yob1900.txt -- has length 46884\n",
        "baby name file yob1901.txt -- has length 39584\n",
        "baby name file yob1902.txt -- has length 42284\n",
        "baby name file yob1903.txt -- has length 42679\n",
        "baby name file yob1904.txt -- has length 44819\n",
        "baby name file yob1905.txt -- has length 46015\n",
        "baby name file yob1906.txt -- has length 45845\n",
        "baby name file yob1907.txt -- has length 49829\n",
        "baby name file yob1908.txt -- has length 50841\n",
        "baby name file yob1909.txt -- has length 53501\n",
        "baby name file yob1910.txt -- has length 58699\n",
        "baby name file yob1911.txt -- has length 61761\n",
        "baby name file yob1912.txt -- has length 80705\n",
        "baby name file yob1913.txt -- has length 88689\n",
        "baby name file yob1914.txt -- has length 101518\n",
        "baby name file yob1915.txt -- has length 119459\n",
        "baby name file yob1916.txt -- has length 123877\n",
        "baby name file yob1917.txt -- has length 126808\n",
        "baby name file yob1918.txt -- has length 133080\n",
        "baby name file yob1919.txt -- has length 132702\n",
        "baby name file yob1920.txt -- has length 137766\n",
        "baby name file yob1921.txt -- has length 139182\n",
        "baby name file yob1922.txt -- has length 138202\n",
        "baby name file yob1923.txt -- has length 136699"
       ]
      },
      {
       "output_type": "stream",
       "stream": "stdout",
       "text": [
        "\n",
        "baby name file yob1924.txt -- has length 139600\n",
        "baby name file yob1925.txt -- has length 136841\n",
        "baby name file yob1926.txt -- has length 134373\n",
        "baby name file yob1927.txt -- has length 133892\n",
        "baby name file yob1928.txt -- has length 130705\n",
        "baby name file yob1929.txt -- has length 126331\n",
        "baby name file yob1930.txt -- has length 125931\n",
        "baby name file yob1931.txt -- has length 119454\n",
        "baby name file yob1932.txt -- has length 120811\n",
        "baby name file yob1933.txt -- has length 115851\n",
        "baby name file yob1934.txt -- has length 118057\n",
        "baby name file yob1935.txt -- has length 116234\n",
        "baby name file yob1936.txt -- has length 114346\n",
        "baby name file yob1937.txt -- has length 115330\n",
        "baby name file yob1938.txt -- has length 116267\n",
        "baby name file yob1939.txt -- has length 114794\n",
        "baby name file yob1940.txt -- has length 115645\n",
        "baby name file yob1941.txt -- has length 117222\n",
        "baby name file yob1942.txt -- has length 121644\n",
        "baby name file yob1943.txt -- has length 121496"
       ]
      },
      {
       "output_type": "stream",
       "stream": "stdout",
       "text": [
        "\n",
        "baby name file yob1944.txt -- has length 118126\n",
        "baby name file yob1945.txt -- has length 116539\n",
        "baby name file yob1946.txt -- has length 125428\n",
        "baby name file yob1947.txt -- has length 134064\n",
        "baby name file yob1948.txt -- has length 132356\n",
        "baby name file yob1949.txt -- has length 132713\n",
        "baby name file yob1950.txt -- has length 133320\n",
        "baby name file yob1951.txt -- has length 135363\n",
        "baby name file yob1952.txt -- has length 137681\n",
        "baby name file yob1953.txt -- has length 140006\n",
        "baby name file yob1954.txt -- has length 141573\n",
        "baby name file yob1955.txt -- has length 143585\n",
        "baby name file yob1956.txt -- has length 146572\n",
        "baby name file yob1957.txt -- has length 149120\n",
        "baby name file yob1958.txt -- has length 148661\n",
        "baby name file yob1959.txt -- has length 151956\n",
        "baby name file yob1960.txt -- has length 154068"
       ]
      },
      {
       "output_type": "stream",
       "stream": "stdout",
       "text": [
        "\n",
        "baby name file yob1961.txt -- has length 157480\n",
        "baby name file yob1962.txt -- has length 157888\n",
        "baby name file yob1963.txt -- has length 158866\n",
        "baby name file yob1964.txt -- has length 160462\n",
        "baby name file yob1965.txt -- has length 155007\n",
        "baby name file yob1966.txt -- has length 157350\n",
        "baby name file yob1967.txt -- has length 160601\n",
        "baby name file yob1968.txt -- has length 167348\n",
        "baby name file yob1969.txt -- has length 177995\n",
        "baby name file yob1970.txt -- has length 191436\n",
        "baby name file yob1971.txt -- has length 198047\n",
        "baby name file yob1972.txt -- has length 199479\n",
        "baby name file yob1973.txt -- has length 202943\n",
        "baby name file yob1974.txt -- has length 210385"
       ]
      },
      {
       "output_type": "stream",
       "stream": "stdout",
       "text": [
        "\n",
        "baby name file yob1975.txt -- has length 218969\n",
        "baby name file yob1976.txt -- has length 224894\n",
        "baby name file yob1977.txt -- has length 234907\n",
        "baby name file yob1978.txt -- has length 235868\n",
        "baby name file yob1979.txt -- has length 246225\n",
        "baby name file yob1980.txt -- has length 251210\n",
        "baby name file yob1981.txt -- has length 251703\n",
        "baby name file yob1982.txt -- has length 254703\n",
        "baby name file yob1983.txt -- has length 250764\n",
        "baby name file yob1984.txt -- has length 252641"
       ]
      },
      {
       "output_type": "stream",
       "stream": "stdout",
       "text": [
        "\n",
        "baby name file yob1985.txt -- has length 260216\n",
        "baby name file yob1986.txt -- has length 267814\n",
        "baby name file yob1987.txt -- has length 278209\n",
        "baby name file yob1988.txt -- has length 290884\n",
        "baby name file yob1989.txt -- has length 309392\n",
        "baby name file yob1990.txt -- has length 321990\n",
        "baby name file yob1991.txt -- has length 327152\n",
        "baby name file yob1992.txt -- has length 331413\n",
        "baby name file yob1993.txt -- has length 337720"
       ]
      },
      {
       "output_type": "stream",
       "stream": "stdout",
       "text": [
        "\n",
        "baby name file yob1994.txt -- has length 338152\n",
        "baby name file yob1995.txt -- has length 339099\n",
        "baby name file yob1996.txt -- has length 343005\n",
        "baby name file yob1997.txt -- has length 350017\n",
        "baby name file yob1998.txt -- has length 361446\n",
        "baby name file yob1999.txt -- has length 369255\n",
        "baby name file yob2000.txt -- has length 384983"
       ]
      },
      {
       "output_type": "stream",
       "stream": "stdout",
       "text": [
        "\n",
        "baby name file yob2001.txt -- has length 390972\n",
        "baby name file yob2002.txt -- has length 394683\n",
        "baby name file yob2003.txt -- has length 402416\n",
        "baby name file yob2004.txt -- has length 413222\n",
        "baby name file yob2005.txt -- has length 419913\n",
        "baby name file yob2006.txt -- has length 439972"
       ]
      },
      {
       "output_type": "stream",
       "stream": "stdout",
       "text": [
        "\n",
        "baby name file yob2007.txt -- has length 450835\n",
        "baby name file yob2008.txt -- has length 452196\n",
        "baby name file yob2009.txt -- has length 447366\n",
        "baby name file yob2010.txt -- has length 438788\n",
        "baby name file yob2011.txt -- has length 436122\n",
        "baby name file yob2012.txt -- has length 432417"
       ]
      },
      {
       "output_type": "stream",
       "stream": "stdout",
       "text": [
        "\n",
        "baby name file yob1880.txt -- has length 24933\n",
        "baby name file yob1881.txt -- has length 24065\n",
        "baby name file yob1882.txt -- has length 26559\n",
        "baby name file yob1883.txt -- has length 26003\n",
        "baby name file yob1884.txt -- has length 28670\n"
       ]
      }
     ],
     "prompt_number": 57
    },
    {
     "cell_type": "markdown",
     "metadata": {},
     "source": [
      "##Open Data\n",
      "\n",
      "Open Data is a movement promoting open access to data, particularly in government and in the sciences.\n",
      "\n",
      "See  http://en.wikipedia.org/wiki/Open_data, which includes a large list of data sites.\n",
      "\n",
      "Some representative sites include:\n",
      "<ul><li>\n",
      "The US Government data clearinghouse http://www.data.gov\n",
      "</li><li>\n",
      "Google's Public Data Repository http://www.google.com/publicdata/directory\n",
      "</li><li>\n",
      "The World Bank data catalog http://datacatalog.worldbank.org/\n",
      "</li><li>\n",
      "The Guardian data site http://guardian.co.uk/data\n",
      "</li></ul>\n"
     ]
    },
    {
     "cell_type": "markdown",
     "metadata": {},
     "source": [
      "##Leading Newspaper open data sites\n",
      "\n",
      "<ul><li>\n",
      "Guardian.co.uk/data\n",
      "<a target=\"_blank\" title=\"http://www.guardian.co.uk/data\" href=\"http://www.guardian.co.uk/data\">http://www.guardian.co.uk/data</a>\n",
      "<div class=\"p\"><!----></div>\n",
      "</li>\n",
      "\n",
      "<li>\n",
      "NY Times Labs\n",
      "<a target=\"_blank\" title=\"http://nytlabs.com\" href=\"http://nytlabs.com\">http://nytlabs.com</a>\n",
      "<div class=\"p\"><!----></div>\n",
      "</li>\n",
      "\n",
      "<li>\n",
      "Los Angeles Times Data Desk\n",
      "<a target=\"_blank\" title=\"http://datadesk.latimes.com\" href=\"http://datadesk.latimes.com\">http://datadesk.latimes.com</a>\n",
      "<div class=\"p\"><!----></div>\n",
      "</li>\n",
      "\n",
      "</ul>"
     ]
    },
    {
     "cell_type": "markdown",
     "metadata": {},
     "source": [
      "## Statistical Abstract of the United States\n",
      "\n",
      "At http://catalog.data.gov/dataset/statistical-abstract-of-the-united-states you can find a collection of short aggregate datasets:\n",
      "\n",
      "\"First published in 1878, the Statistical Abstract serves as the official federal summary of statistics and provides over 1,400 tables of benchmark measures on the demographic, housing, social, political, and economic condition of the United States.\"\n",
      "\n",
      "You can browse individual parts of this at http://www.census.gov/compendia/statab/ -- it seems some datasets only reach to 2009, and the datasets are in .xls format, but they cover a lot of territory."
     ]
    },
    {
     "cell_type": "code",
     "collapsed": false,
     "input": [
      "import requests\n",
      "Higher_Education_Degrees_Awarded = \"http://www.census.gov/compendia/statab/2012/tables/12s0303.xls\"\n",
      "degrees = requests.get(Higher_Education_Degrees_Awarded)\n"
     ],
     "language": "python",
     "metadata": {},
     "outputs": []
    },
    {
     "cell_type": "markdown",
     "metadata": {},
     "source": [
      "##US Census Data\n",
      "\n",
      "The notebook at http://nbviewer.ipython.org/github/rdhyee/working-open-data-2014/blob/master/notebooks/Day_02_A_US_Census_API.ipynb\n",
      "explains how to access Census data.\n",
      "\n",
      "The other notebooks in Raymond Yee's Open Data course http://nbviewer.ipython.org/github/rdhyee/working-open-data-2014/tree/master/ are excellent also."
     ]
    },
    {
     "cell_type": "markdown",
     "metadata": {},
     "source": [
      "##CIA World Factbook\n",
      "\n",
      "A well-known database of information about countries and their leaders is at\n",
      "https://www.cia.gov/library/publications/the-world-factbook/\n",
      "\n",
      "You can download the entire World Factbook as a zip file from:\n",
      "https://www.cia.gov/library/publications/download/\n",
      "(this page says it is 182MB).\n"
     ]
    },
    {
     "cell_type": "markdown",
     "metadata": {},
     "source": [
      "##World Bank Data Catalog\n",
      "\n",
      "The World Bank has a catalog of datasets at http://datacatalog.worldbank.org/ -- and have an API that permits download of datasets in a variety of formats at http://data.worldbank.org/developers/data-catalog-api\n",
      "\n",
      "They also have an amazing number of indicators at http://data.worldbank.org/indicator -- with for example Science & Technology indicators at http://data.worldbank.org/topic/science-and-technology showing e.g. numbers of Patent Applications and total R&D Expenditures."
     ]
    },
    {
     "cell_type": "code",
     "collapsed": false,
     "input": [
      "Complete_XML_catalog_URL = \"http://api.worldbank.org/v2/datacatalog/downloadfile\"\n",
      "\n",
      "Science_and_Technology_Indicators = \"http://api.worldbank.org/v2/en/topic/14?downloadformat=csv\""
     ],
     "language": "python",
     "metadata": {},
     "outputs": []
    },
    {
     "cell_type": "markdown",
     "metadata": {},
     "source": [
      "##Other Government Data Sites\n",
      "\n",
      "<ul><li>\n",
      "Federal data clearinghouse\n",
      "<a target=\"_blank\" title=\"http://www.data.gov\" href=\"http://www.data.gov\">http://www.data.gov</a>\n",
      "<div class=\"p\"><!----></div>\n",
      "</li>\n",
      "\n",
      "<li>\n",
      "National Bureau of Economic Research\n",
      "<a target=\"_blank\" title=\"http://www.nber.org/data\" href=\"http://www.nber.org/data\">http://www.nber.org/data</a>\n",
      "<br />(many interesting datasets: Macroeconomics, industry, trade, demographics, hospital, patents, ...)\n",
      "<div class=\"p\"><!----></div>\n",
      "</li>\n",
      "\n",
      "<li>\n",
      "Federal Reserve Data Economic Research &amp; Data\n",
      "<a target=\"_blank\" title=\"http://www.federalreserve.gov/econresdata/default.htm\" href=\"http://www.federalreserve.gov/econresdata/default.htm\">http://www.federalreserve.gov/econresdata/default.htm</a>\n",
      "<br />(including data about mortgage defaults, interest rates, exchange rates, industrial production, ...)\n",
      "<div class=\"p\"><!----></div>\n",
      "</li>\n",
      "\n",
      "<li>\n",
      "Federal Statistics Data Access Tools:\n",
      "<a target=\"_blank\" title=\"http://www.fedstats.gov/toolkit.html\" href=\"http://www.fedstats.gov/toolkit.html\">http://www.fedstats.gov/toolkit.html</a>\n",
      "<div class=\"p\"><!----></div>\n",
      "</li>\n",
      "\n",
      "<li>\n",
      "The Federal Election Commission's <a target=\"_blank\" title=\"https://github.com/rgbkrk/pydata-notebook/tree/master/ch09\" href=\"https://github.com/rgbkrk/pydata-notebook/tree/master/ch09\">2012 Campaign Contribution data</a>,\n",
      "a 150 megabyte CSV file that includes contributor names, occupation and employer, address, and contribution amount.\n",
      "(<a target=\"_blank\" title=\"wakari.io\" href=\"wakari.io\">wakari.io</a> has a <a target=\"_blank\" title=\"https://www.wakari.io/sharing/bundle/jbourque/Follow_the_Money\" href=\"https://www.wakari.io/sharing/bundle/jbourque/Follow_the_Money\">IPython Notebook that links this FEC data with Census data to obtain per-capita contributions by state</a></font>.)\n",
      "<div class=\"p\"><!----></div>\n",
      "</li>\n",
      "\n",
      "<li>\n",
      "Tracking the U.S. Congress\n",
      "<a target=\"_blank\" title=\"http://www.govtrack.us/developers/data.xpd\" href=\"http://www.govtrack.us/developers/data.xpd\">http://www.govtrack.us/developers/data.xpd</a>\n",
      "<div class=\"p\"><!----></div>\n",
      "</li>\n",
      "\n",
      "<li>\n",
      "California State Datasets\n",
      "<a target=\"_blank\" title=\"http://www.ca.gov/data/state_data_files.html\" href=\"http://www.ca.gov/data/state_data_files.html\">http://www.ca.gov/data/state_data_files.html</a>\n",
      "<div class=\"p\"><!----></div>\n",
      "</li></ul>"
     ]
    },
    {
     "cell_type": "markdown",
     "metadata": {},
     "source": [
      "##NFL (National Football League) Mining\n",
      "\n",
      "Automated NFL team ranking:\n",
      "http://nbviewer.ipython.org/github/seanjtaylor/NFLRanking/blob/master/NFL%20Rankings.ipynb\n",
      "\n"
     ]
    },
    {
     "cell_type": "code",
     "collapsed": false,
     "input": [],
     "language": "python",
     "metadata": {},
     "outputs": []
    },
    {
     "cell_type": "code",
     "collapsed": false,
     "input": [],
     "language": "python",
     "metadata": {},
     "outputs": []
    }
   ],
   "metadata": {}
  }
 ]
}